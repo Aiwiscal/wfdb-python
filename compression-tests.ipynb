{
 "cells": [
  {
   "cell_type": "markdown",
   "metadata": {},
   "source": [
    "# Notes\n",
    "\n",
    "## Flac Format\n",
    "\n",
    "https://xiph.org/flac/format.html\n",
    "\n",
    "## Flac C API\n",
    "\n",
    "https://xiph.org/flac/api/modules.html\n",
    "\n",
    "https://xiph.org/flac/api/structFLAC____StreamMetadata.html\n",
    "\n",
    "Source files: https://git.xiph.org/?p=flac.git;a=tree;f=src/libFLAC;h=c172637587ca9bfe4cd4156955db3dbcf5a42395;hb=refs/heads/master\n",
    "\n",
    "## Flac command line tool and library files\n",
    "\n",
    "Command line: `flac %s --endian=little --channels=%d --sample-rate=%d --bps=%d --sign=signed -%d -o %s`\n",
    "\n",
    "ie. `flac 3544749_0005.dat --endian=little --channels=4 --sample-rate=125 --bps=8 --sign=signed -0`\n",
    "\n",
    "Example flac file: `/home/cx1111/Downloads/data/mimic3wdb/matched/p000020/3544749_0005.flac`\n",
    "\n",
    "Show shared libraries of an executable: `ldd /usr/bin/flac`\n",
    "\n",
    "Show callable functions from a library: `nm -D /usr/lib/x86_64-linux-gnu/libFLAC.so.8`\n",
    "\n",
    "nm -D `/lib/x86_64-linux-gnu/libc-2.23.so`\n",
    "\n",
    "## Calling C functions in Python\n",
    "\n",
    "Options\n",
    "- ctypes (built in): https://docs.python.org/3/library/ctypes.html\n",
    "- python/c api (built in): https://docs.python.org/3.5/c-api/\n",
    "- swig: https://github.com/dsully/pyflac\n",
    "- boost\n",
    "\n",
    "http://book.pythontips.com/en/latest/python_c_extension.html\n",
    "https://stackoverflow.com/questions/145270/calling-c-c-from-python\n",
    "\n",
    "\n",
    "## Building C Extensions\n",
    "\n",
    "https://docs.python.org/3/extending/building.html\n",
    "\n",
    "\n",
    "# Compiling c\n",
    "\n",
    "gcc -c -fPIC simple.c -o simple.o\n",
    "gcc -shared simple.o -o simple.so\n"
   ]
  },
  {
   "cell_type": "code",
   "execution_count": 1,
   "metadata": {},
   "outputs": [],
   "source": [
    "import ctypes\n",
    "simple = ctypes.CDLL('./compress/simple.so')"
   ]
  },
  {
   "cell_type": "code",
   "execution_count": 3,
   "metadata": {},
   "outputs": [
    {
     "name": "stdout",
     "output_type": "stream",
     "text": [
      "Sean\n",
      "100000\n"
     ]
    }
   ],
   "source": [
    "class Singer(ctypes.Structure):\n",
    "    _fields_ = [\n",
    "                ('name', ctypes.c_char * 20),\n",
    "                ('networth', ctypes.c_int),\n",
    "    ]\n",
    "    \n",
    "simple.setsinger.argtypes = [ctypes.c_char_p, ctypes.c_int, ctypes.POINTER(Singer)]\n",
    "simple.setsinger.restype = None\n",
    "\n",
    "s = Singer()\n",
    "\n",
    "name = b'Sean'\n",
    "simple.setsinger(name, 100000, ctypes.byref(s))\n",
    "\n",
    "print(s.name.decode('ascii'))\n",
    "print(s.networth)"
   ]
  },
  {
   "cell_type": "code",
   "execution_count": 24,
   "metadata": {},
   "outputs": [],
   "source": [
    "\n",
    "    \n",
    "    \n",
    "    \n",
    "    "
   ]
  },
  {
   "cell_type": "code",
   "execution_count": 1,
   "metadata": {},
   "outputs": [],
   "source": [
    "import ctypes\n",
    "\n",
    "flac = ctypes.CDLL('/usr/lib/x86_64-linux-gnu/libFLAC.so.8')\n",
    "\n",
    "class FLAC__StreamMetadata_StreamInfo(ctypes.Structure):\n",
    "    _fields_ = [('min_blocksize', ctypes.c_uint),\n",
    "                ('max_blocksize', ctypes.c_uint),\n",
    "                ('min_framesize', ctypes.c_uint),\n",
    "                ('max_framesize', ctypes.c_uint),\n",
    "                ('sample_rate', ctypes.c_uint),\n",
    "                ('channels', ctypes.c_uint),\n",
    "                ('bits_per_sample', ctypes.c_uint),\n",
    "                ('total_samples', ctypes.c_ulonglong),\n",
    "                ('md5sum', ctypes.c_char * 16),\n",
    "               ]\n",
    "\n",
    "# Specify input and output types\n",
    "flac.FLAC__metadata_get_streaminfo.argtype = [ctypes.c_char_p, ctypes.POINTER(FLAC__StreamMetadata_StreamInfo)]\n",
    "flac.FLAC__metadata_get_streaminfo.restype = ctypes.c_bool\n",
    "    \n",
    "meta = FLAC__StreamMetadata_StreamInfo()\n",
    "x = flac.FLAC__metadata_get_streaminfo(b'/home/cx1111/Downloads/data/mimic3wdb/matched/p000020/3544749_0005.flac',\n",
    "                                       ctypes.byref(meta))"
   ]
  },
  {
   "cell_type": "code",
   "execution_count": 5,
   "metadata": {},
   "outputs": [
    {
     "data": {
      "text/plain": [
       "1152"
      ]
     },
     "execution_count": 5,
     "metadata": {},
     "output_type": "execute_result"
    }
   ],
   "source": [
    "meta.sample_rate"
   ]
  },
  {
   "cell_type": "code",
   "execution_count": null,
   "metadata": {},
   "outputs": [],
   "source": []
  },
  {
   "cell_type": "code",
   "execution_count": 6,
   "metadata": {},
   "outputs": [
    {
     "data": {
      "text/plain": [
       "14"
      ]
     },
     "execution_count": 6,
     "metadata": {},
     "output_type": "execute_result"
    }
   ],
   "source": [
    "libc = ctypes.CDLL('/lib/x86_64-linux-gnu/libc-2.23.so')\n",
    "libc.printf(b\"Hello, %s\\n\", b\"World!\")"
   ]
  },
  {
   "cell_type": "code",
   "execution_count": 5,
   "metadata": {},
   "outputs": [
    {
     "data": {
      "text/plain": [
       "1527191722"
      ]
     },
     "execution_count": 5,
     "metadata": {},
     "output_type": "execute_result"
    }
   ],
   "source": [
    "libc.time(None)"
   ]
  },
  {
   "cell_type": "code",
   "execution_count": null,
   "metadata": {},
   "outputs": [],
   "source": []
  },
  {
   "cell_type": "code",
   "execution_count": 1,
   "metadata": {},
   "outputs": [],
   "source": [
    "import os\n",
    "import subprocess\n",
    "import time \n",
    "\n",
    "import cxutils as cx\n",
    "from wfdb.io import compress_file, test_compression, compare_compressions, rdheader\n",
    "from wfdb.io._signal import wfdbfmtres\n"
   ]
  },
  {
   "cell_type": "code",
   "execution_count": 2,
   "metadata": {},
   "outputs": [
    {
     "name": "stdout",
     "output_type": "stream",
     "text": [
      "Testing bz2 with compress level=1 ...\n",
      "Testing bz2 with compress level=5 ...\n",
      "Testing bz2 with compress level=9 ...\n",
      "Testing gzip with compress level=1 ...\n",
      "Testing gzip with compress level=5 ...\n",
      "Testing gzip with compress level=9 ...\n",
      "Testing lz4 with compress level=0 ...\n",
      "Testing lz4 with compress level=10 ...\n",
      "Testing lz4 with compress level=16 ...\n",
      "Testing zstd with compress level=1 ...\n",
      "Testing zstd with compress level=15 ...\n",
      "Testing zstd with compress level=22 ...\n",
      "Testing flac with compress level=0 ...\n",
      "Testing flac with compress level=5 ...\n",
      "Testing flac with compress level=8 ...\n",
      "Full benchmark complete\n",
      "\n",
      "\n",
      "Benchmark results of 5980 files, with total size 21.01 G\n"
     ]
    },
    {
     "data": {
      "text/html": [
       "<div>\n",
       "<style scoped>\n",
       "    .dataframe tbody tr th:only-of-type {\n",
       "        vertical-align: middle;\n",
       "    }\n",
       "\n",
       "    .dataframe tbody tr th {\n",
       "        vertical-align: top;\n",
       "    }\n",
       "\n",
       "    .dataframe thead th {\n",
       "        text-align: right;\n",
       "    }\n",
       "</style>\n",
       "<table border=\"1\" class=\"dataframe\">\n",
       "  <thead>\n",
       "    <tr style=\"text-align: right;\">\n",
       "      <th></th>\n",
       "      <th>fmt</th>\n",
       "      <th>compress_level</th>\n",
       "      <th>compression_ratio</th>\n",
       "      <th>time_compress</th>\n",
       "      <th>time_decompress</th>\n",
       "    </tr>\n",
       "  </thead>\n",
       "  <tbody>\n",
       "    <tr>\n",
       "      <th>0</th>\n",
       "      <td>bz2</td>\n",
       "      <td>1</td>\n",
       "      <td>2.01</td>\n",
       "      <td>0:41:48</td>\n",
       "      <td>0:16:54</td>\n",
       "    </tr>\n",
       "    <tr>\n",
       "      <th>1</th>\n",
       "      <td>bz2</td>\n",
       "      <td>5</td>\n",
       "      <td>2.14</td>\n",
       "      <td>0:52:01</td>\n",
       "      <td>0:22:37</td>\n",
       "    </tr>\n",
       "    <tr>\n",
       "      <th>2</th>\n",
       "      <td>bz2</td>\n",
       "      <td>9</td>\n",
       "      <td>2.18</td>\n",
       "      <td>1:11:38</td>\n",
       "      <td>0:44:29</td>\n",
       "    </tr>\n",
       "    <tr>\n",
       "      <th>3</th>\n",
       "      <td>gzip</td>\n",
       "      <td>1</td>\n",
       "      <td>1.60</td>\n",
       "      <td>0:10:08</td>\n",
       "      <td>0:03:45</td>\n",
       "    </tr>\n",
       "    <tr>\n",
       "      <th>4</th>\n",
       "      <td>gzip</td>\n",
       "      <td>5</td>\n",
       "      <td>1.69</td>\n",
       "      <td>0:19:50</td>\n",
       "      <td>0:03:36</td>\n",
       "    </tr>\n",
       "    <tr>\n",
       "      <th>5</th>\n",
       "      <td>gzip</td>\n",
       "      <td>9</td>\n",
       "      <td>1.70</td>\n",
       "      <td>0:37:15</td>\n",
       "      <td>0:03:43</td>\n",
       "    </tr>\n",
       "    <tr>\n",
       "      <th>6</th>\n",
       "      <td>lz4</td>\n",
       "      <td>0</td>\n",
       "      <td>1.17</td>\n",
       "      <td>0:02:47</td>\n",
       "      <td>0:02:12</td>\n",
       "    </tr>\n",
       "    <tr>\n",
       "      <th>7</th>\n",
       "      <td>lz4</td>\n",
       "      <td>10</td>\n",
       "      <td>1.48</td>\n",
       "      <td>0:23:51</td>\n",
       "      <td>0:00:32</td>\n",
       "    </tr>\n",
       "    <tr>\n",
       "      <th>8</th>\n",
       "      <td>lz4</td>\n",
       "      <td>16</td>\n",
       "      <td>1.48</td>\n",
       "      <td>0:44:57</td>\n",
       "      <td>0:00:30</td>\n",
       "    </tr>\n",
       "    <tr>\n",
       "      <th>9</th>\n",
       "      <td>zstd</td>\n",
       "      <td>1</td>\n",
       "      <td>1.57</td>\n",
       "      <td>0:02:33</td>\n",
       "      <td>0:01:17</td>\n",
       "    </tr>\n",
       "    <tr>\n",
       "      <th>10</th>\n",
       "      <td>zstd</td>\n",
       "      <td>15</td>\n",
       "      <td>1.89</td>\n",
       "      <td>6:11:24</td>\n",
       "      <td>0:06:48</td>\n",
       "    </tr>\n",
       "    <tr>\n",
       "      <th>11</th>\n",
       "      <td>zstd</td>\n",
       "      <td>22</td>\n",
       "      <td>2.01</td>\n",
       "      <td>15:45:09</td>\n",
       "      <td>0:07:24</td>\n",
       "    </tr>\n",
       "    <tr>\n",
       "      <th>12</th>\n",
       "      <td>flac</td>\n",
       "      <td>0</td>\n",
       "      <td>2.18</td>\n",
       "      <td>0:06:55</td>\n",
       "      <td>0:04:19</td>\n",
       "    </tr>\n",
       "    <tr>\n",
       "      <th>13</th>\n",
       "      <td>flac</td>\n",
       "      <td>5</td>\n",
       "      <td>2.22</td>\n",
       "      <td>0:06:48</td>\n",
       "      <td>0:05:00</td>\n",
       "    </tr>\n",
       "    <tr>\n",
       "      <th>14</th>\n",
       "      <td>flac</td>\n",
       "      <td>8</td>\n",
       "      <td>2.26</td>\n",
       "      <td>0:11:27</td>\n",
       "      <td>0:04:47</td>\n",
       "    </tr>\n",
       "  </tbody>\n",
       "</table>\n",
       "</div>"
      ],
      "text/plain": [
       "     fmt compress_level compression_ratio time_compress time_decompress\n",
       "0    bz2              1              2.01       0:41:48         0:16:54\n",
       "1    bz2              5              2.14       0:52:01         0:22:37\n",
       "2    bz2              9              2.18       1:11:38         0:44:29\n",
       "3   gzip              1              1.60       0:10:08         0:03:45\n",
       "4   gzip              5              1.69       0:19:50         0:03:36\n",
       "5   gzip              9              1.70       0:37:15         0:03:43\n",
       "6    lz4              0              1.17       0:02:47         0:02:12\n",
       "7    lz4             10              1.48       0:23:51         0:00:32\n",
       "8    lz4             16              1.48       0:44:57         0:00:30\n",
       "9   zstd              1              1.57       0:02:33         0:01:17\n",
       "10  zstd             15              1.89       6:11:24         0:06:48\n",
       "11  zstd             22              2.01      15:45:09         0:07:24\n",
       "12  flac              0              2.18       0:06:55         0:04:19\n",
       "13  flac              5              2.22       0:06:48         0:05:00\n",
       "14  flac              8              2.26       0:11:27         0:04:47"
      ]
     },
     "metadata": {},
     "output_type": "display_data"
    }
   ],
   "source": [
    "fmts = ['bz2']* 3 + ['gzip']* 3 + ['lz4']*3 + ['zstd']*3 + ['flac']*3\n",
    "compress_levels = [1, 5, 9,\n",
    "                   1, 5, 9,\n",
    "                   0, 10, 16,\n",
    "                   1, 15, 22,\n",
    "                   0, 5, 8]\n",
    "\n",
    "compression_results, dataset_info = compare_compressions(fmts, compress_levels)\n",
    "\n",
    "print('\\n\\nBenchmark results of %d files, with total size %s' % (dataset_info['n_files'], dataset_info['uncompressed_total']))\n",
    "display(compression_results)"
   ]
  },
  {
   "cell_type": "code",
   "execution_count": null,
   "metadata": {},
   "outputs": [],
   "source": []
  },
  {
   "cell_type": "code",
   "execution_count": null,
   "metadata": {},
   "outputs": [],
   "source": [
    "fmts = ['bz2', 'bz2', 'bz2']\n",
    "compress_levels = [1, 5, 9]\n",
    "\n",
    "compression_results, dataset_info = compare_compressions(fmts, compress_levels)\n",
    "\n",
    "print('\\n\\nBenchmark results of %d files, with total size %s' % (dataset_info['n_files'], dataset_info['uncompressed_total']))\n",
    "display(compression_results)"
   ]
  },
  {
   "cell_type": "code",
   "execution_count": null,
   "metadata": {},
   "outputs": [],
   "source": [
    "fmts = ['gzip', 'gzip', 'gzip']\n",
    "compress_levels = [1, 5, 9]\n",
    "\n",
    "compression_results, dataset_info = compare_compressions(fmts, compress_levels)\n",
    "\n",
    "print('\\n\\nBenchmark results of %d files, with total size %s' % (dataset_info['n_files'], dataset_info['uncompressed_total']))\n",
    "display(compression_results)"
   ]
  },
  {
   "cell_type": "code",
   "execution_count": null,
   "metadata": {},
   "outputs": [],
   "source": [
    "fmts = ['lz4', 'lz4']\n",
    "compress_levels = [0, 16]\n",
    "\n",
    "compression_results, dataset_info = compare_compressions(fmts, compress_levels)\n",
    "\n",
    "print('\\n\\nBenchmark results of %d files, with total size %s' % (dataset_info['n_files'], dataset_info['uncompressed_total']))\n",
    "display(compression_results)"
   ]
  },
  {
   "cell_type": "code",
   "execution_count": null,
   "metadata": {},
   "outputs": [],
   "source": [
    "fmts = ['zstd', 'zstd', 'zstd']\n",
    "compress_levels = [1, 15, 22]\n",
    "\n",
    "compression_results, dataset_info = compare_compressions(fmts, compress_levels)\n",
    "\n",
    "print('\\n\\nBenchmark results of %d files, with total size %s' % (dataset_info['n_files'], dataset_info['uncompressed_total']))\n",
    "display(compression_results)"
   ]
  },
  {
   "cell_type": "code",
   "execution_count": 4,
   "metadata": {},
   "outputs": [
    {
     "name": "stdout",
     "output_type": "stream",
     "text": [
      "Testing flac with compress level=0 ...\n",
      "Full benchmark complete\n",
      "\n",
      "\n",
      "Benchmark results of 5980 files, with total size 21.01 G\n"
     ]
    },
    {
     "data": {
      "text/html": [
       "<div>\n",
       "<style scoped>\n",
       "    .dataframe tbody tr th:only-of-type {\n",
       "        vertical-align: middle;\n",
       "    }\n",
       "\n",
       "    .dataframe tbody tr th {\n",
       "        vertical-align: top;\n",
       "    }\n",
       "\n",
       "    .dataframe thead th {\n",
       "        text-align: right;\n",
       "    }\n",
       "</style>\n",
       "<table border=\"1\" class=\"dataframe\">\n",
       "  <thead>\n",
       "    <tr style=\"text-align: right;\">\n",
       "      <th></th>\n",
       "      <th>fmt</th>\n",
       "      <th>compress_level</th>\n",
       "      <th>compression_ratio</th>\n",
       "      <th>time_compress</th>\n",
       "      <th>time_decompress</th>\n",
       "    </tr>\n",
       "  </thead>\n",
       "  <tbody>\n",
       "    <tr>\n",
       "      <th>0</th>\n",
       "      <td>flac</td>\n",
       "      <td>0</td>\n",
       "      <td>2.18</td>\n",
       "      <td>360.514716</td>\n",
       "      <td>297.462226</td>\n",
       "    </tr>\n",
       "  </tbody>\n",
       "</table>\n",
       "</div>"
      ],
      "text/plain": [
       "    fmt compress_level compression_ratio  time_compress  time_decompress\n",
       "0  flac              0              2.18     360.514716       297.462226"
      ]
     },
     "metadata": {},
     "output_type": "display_data"
    }
   ],
   "source": [
    "fmts = ['flac', 'flac', 'flac']\n",
    "compress_levels = [0, 5, 8]\n",
    "\n",
    "compression_results, dataset_info = compare_compressions(fmts, compress_levels)\n",
    "\n",
    "print('\\n\\nBenchmark results of %d files, with total size %s' % (dataset_info['n_files'], dataset_info['uncompressed_total']))\n",
    "display(compression_results)"
   ]
  },
  {
   "cell_type": "code",
   "execution_count": null,
   "metadata": {},
   "outputs": [],
   "source": []
  },
  {
   "cell_type": "code",
   "execution_count": null,
   "metadata": {},
   "outputs": [],
   "source": []
  }
 ],
 "metadata": {
  "kernelspec": {
   "display_name": "Python 3",
   "language": "python",
   "name": "python3"
  },
  "language_info": {
   "codemirror_mode": {
    "name": "ipython",
    "version": 3
   },
   "file_extension": ".py",
   "mimetype": "text/x-python",
   "name": "python",
   "nbconvert_exporter": "python",
   "pygments_lexer": "ipython3",
   "version": "3.5.2"
  }
 },
 "nbformat": 4,
 "nbformat_minor": 2
}
